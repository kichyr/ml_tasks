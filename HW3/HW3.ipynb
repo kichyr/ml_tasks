{
 "cells": [
  {
   "cell_type": "markdown",
   "id": "35956b68",
   "metadata": {},
   "source": [
    "## HW 3. Решающее дерево"
   ]
  },
  {
   "cell_type": "code",
   "execution_count": 2,
   "id": "0e6f02a7",
   "metadata": {},
   "outputs": [],
   "source": [
    "import numpy as np\n",
    "import sklearn\n",
    "import pandas as pd\n",
    "import pickle\n",
    "import matplotlib.pyplot as plt\n",
    "from sklearn.model_selection import train_test_split\n",
    "from sklearn.tree import DecisionTreeClassifier"
   ]
  },
  {
   "cell_type": "code",
   "execution_count": 17,
   "id": "5a3e1420",
   "metadata": {},
   "outputs": [
    {
     "data": {
      "text/html": [
       "<div>\n",
       "<style scoped>\n",
       "    .dataframe tbody tr th:only-of-type {\n",
       "        vertical-align: middle;\n",
       "    }\n",
       "\n",
       "    .dataframe tbody tr th {\n",
       "        vertical-align: top;\n",
       "    }\n",
       "\n",
       "    .dataframe thead th {\n",
       "        text-align: right;\n",
       "    }\n",
       "</style>\n",
       "<table border=\"1\" class=\"dataframe\">\n",
       "  <thead>\n",
       "    <tr style=\"text-align: right;\">\n",
       "      <th></th>\n",
       "      <th>Age</th>\n",
       "      <th>workclass</th>\n",
       "      <th>Fnlwgt</th>\n",
       "      <th>Education</th>\n",
       "      <th>Education-num</th>\n",
       "      <th>Marital-status</th>\n",
       "      <th>Occupation</th>\n",
       "      <th>Relationship</th>\n",
       "      <th>Race</th>\n",
       "      <th>Sex</th>\n",
       "      <th>Capital-gain</th>\n",
       "      <th>Capital-loss</th>\n",
       "      <th>Hours-per-week</th>\n",
       "      <th>Native-country</th>\n",
       "      <th>Money</th>\n",
       "    </tr>\n",
       "  </thead>\n",
       "  <tbody>\n",
       "    <tr>\n",
       "      <th>25418</th>\n",
       "      <td>39</td>\n",
       "      <td>Private</td>\n",
       "      <td>120074</td>\n",
       "      <td>HS-grad</td>\n",
       "      <td>9</td>\n",
       "      <td>Divorced</td>\n",
       "      <td>Handlers-cleaners</td>\n",
       "      <td>Not-in-family</td>\n",
       "      <td>White</td>\n",
       "      <td>Male</td>\n",
       "      <td>0</td>\n",
       "      <td>0</td>\n",
       "      <td>40</td>\n",
       "      <td>United-States</td>\n",
       "      <td>&lt;=50K</td>\n",
       "    </tr>\n",
       "    <tr>\n",
       "      <th>20055</th>\n",
       "      <td>50</td>\n",
       "      <td>Private</td>\n",
       "      <td>183173</td>\n",
       "      <td>HS-grad</td>\n",
       "      <td>9</td>\n",
       "      <td>Married-civ-spouse</td>\n",
       "      <td>Prof-specialty</td>\n",
       "      <td>Husband</td>\n",
       "      <td>White</td>\n",
       "      <td>Male</td>\n",
       "      <td>99999</td>\n",
       "      <td>0</td>\n",
       "      <td>40</td>\n",
       "      <td>United-States</td>\n",
       "      <td>&gt;50K</td>\n",
       "    </tr>\n",
       "    <tr>\n",
       "      <th>10209</th>\n",
       "      <td>32</td>\n",
       "      <td>Private</td>\n",
       "      <td>290964</td>\n",
       "      <td>Bachelors</td>\n",
       "      <td>13</td>\n",
       "      <td>Never-married</td>\n",
       "      <td>Sales</td>\n",
       "      <td>Not-in-family</td>\n",
       "      <td>White</td>\n",
       "      <td>Female</td>\n",
       "      <td>0</td>\n",
       "      <td>1590</td>\n",
       "      <td>40</td>\n",
       "      <td>United-States</td>\n",
       "      <td>&lt;=50K</td>\n",
       "    </tr>\n",
       "    <tr>\n",
       "      <th>15986</th>\n",
       "      <td>38</td>\n",
       "      <td>Private</td>\n",
       "      <td>22494</td>\n",
       "      <td>Some-college</td>\n",
       "      <td>10</td>\n",
       "      <td>Divorced</td>\n",
       "      <td>Adm-clerical</td>\n",
       "      <td>Not-in-family</td>\n",
       "      <td>White</td>\n",
       "      <td>Female</td>\n",
       "      <td>7443</td>\n",
       "      <td>0</td>\n",
       "      <td>40</td>\n",
       "      <td>United-States</td>\n",
       "      <td>&lt;=50K</td>\n",
       "    </tr>\n",
       "    <tr>\n",
       "      <th>24455</th>\n",
       "      <td>26</td>\n",
       "      <td>Private</td>\n",
       "      <td>196899</td>\n",
       "      <td>Assoc-acdm</td>\n",
       "      <td>12</td>\n",
       "      <td>Separated</td>\n",
       "      <td>Craft-repair</td>\n",
       "      <td>Not-in-family</td>\n",
       "      <td>Other</td>\n",
       "      <td>Female</td>\n",
       "      <td>0</td>\n",
       "      <td>0</td>\n",
       "      <td>40</td>\n",
       "      <td>United-States</td>\n",
       "      <td>&lt;=50K</td>\n",
       "    </tr>\n",
       "    <tr>\n",
       "      <th>...</th>\n",
       "      <td>...</td>\n",
       "      <td>...</td>\n",
       "      <td>...</td>\n",
       "      <td>...</td>\n",
       "      <td>...</td>\n",
       "      <td>...</td>\n",
       "      <td>...</td>\n",
       "      <td>...</td>\n",
       "      <td>...</td>\n",
       "      <td>...</td>\n",
       "      <td>...</td>\n",
       "      <td>...</td>\n",
       "      <td>...</td>\n",
       "      <td>...</td>\n",
       "      <td>...</td>\n",
       "    </tr>\n",
       "    <tr>\n",
       "      <th>11141</th>\n",
       "      <td>45</td>\n",
       "      <td>Private</td>\n",
       "      <td>108859</td>\n",
       "      <td>HS-grad</td>\n",
       "      <td>9</td>\n",
       "      <td>Separated</td>\n",
       "      <td>Craft-repair</td>\n",
       "      <td>Unmarried</td>\n",
       "      <td>Black</td>\n",
       "      <td>Female</td>\n",
       "      <td>0</td>\n",
       "      <td>0</td>\n",
       "      <td>40</td>\n",
       "      <td>United-States</td>\n",
       "      <td>&lt;=50K</td>\n",
       "    </tr>\n",
       "    <tr>\n",
       "      <th>18912</th>\n",
       "      <td>24</td>\n",
       "      <td>?</td>\n",
       "      <td>412156</td>\n",
       "      <td>HS-grad</td>\n",
       "      <td>9</td>\n",
       "      <td>Married-civ-spouse</td>\n",
       "      <td>?</td>\n",
       "      <td>Wife</td>\n",
       "      <td>White</td>\n",
       "      <td>Female</td>\n",
       "      <td>0</td>\n",
       "      <td>0</td>\n",
       "      <td>40</td>\n",
       "      <td>Mexico</td>\n",
       "      <td>&lt;=50K</td>\n",
       "    </tr>\n",
       "    <tr>\n",
       "      <th>12246</th>\n",
       "      <td>50</td>\n",
       "      <td>Private</td>\n",
       "      <td>237819</td>\n",
       "      <td>HS-grad</td>\n",
       "      <td>9</td>\n",
       "      <td>Married-civ-spouse</td>\n",
       "      <td>Transport-moving</td>\n",
       "      <td>Husband</td>\n",
       "      <td>White</td>\n",
       "      <td>Male</td>\n",
       "      <td>0</td>\n",
       "      <td>0</td>\n",
       "      <td>40</td>\n",
       "      <td>United-States</td>\n",
       "      <td>&gt;50K</td>\n",
       "    </tr>\n",
       "    <tr>\n",
       "      <th>10277</th>\n",
       "      <td>25</td>\n",
       "      <td>Private</td>\n",
       "      <td>123095</td>\n",
       "      <td>Some-college</td>\n",
       "      <td>10</td>\n",
       "      <td>Never-married</td>\n",
       "      <td>Adm-clerical</td>\n",
       "      <td>Own-child</td>\n",
       "      <td>White</td>\n",
       "      <td>Male</td>\n",
       "      <td>0</td>\n",
       "      <td>1590</td>\n",
       "      <td>40</td>\n",
       "      <td>United-States</td>\n",
       "      <td>&lt;=50K</td>\n",
       "    </tr>\n",
       "    <tr>\n",
       "      <th>2302</th>\n",
       "      <td>26</td>\n",
       "      <td>Private</td>\n",
       "      <td>386585</td>\n",
       "      <td>Some-college</td>\n",
       "      <td>10</td>\n",
       "      <td>Divorced</td>\n",
       "      <td>Tech-support</td>\n",
       "      <td>Not-in-family</td>\n",
       "      <td>White</td>\n",
       "      <td>Male</td>\n",
       "      <td>0</td>\n",
       "      <td>0</td>\n",
       "      <td>60</td>\n",
       "      <td>United-States</td>\n",
       "      <td>&lt;=50K</td>\n",
       "    </tr>\n",
       "  </tbody>\n",
       "</table>\n",
       "<p>500 rows × 15 columns</p>\n",
       "</div>"
      ],
      "text/plain": [
       "       Age workclass  Fnlwgt      Education  Education-num  \\\n",
       "25418   39   Private  120074        HS-grad              9   \n",
       "20055   50   Private  183173        HS-grad              9   \n",
       "10209   32   Private  290964      Bachelors             13   \n",
       "15986   38   Private   22494   Some-college             10   \n",
       "24455   26   Private  196899     Assoc-acdm             12   \n",
       "...    ...       ...     ...            ...            ...   \n",
       "11141   45   Private  108859        HS-grad              9   \n",
       "18912   24         ?  412156        HS-grad              9   \n",
       "12246   50   Private  237819        HS-grad              9   \n",
       "10277   25   Private  123095   Some-college             10   \n",
       "2302    26   Private  386585   Some-college             10   \n",
       "\n",
       "            Marital-status          Occupation    Relationship    Race  \\\n",
       "25418             Divorced   Handlers-cleaners   Not-in-family   White   \n",
       "20055   Married-civ-spouse      Prof-specialty         Husband   White   \n",
       "10209        Never-married               Sales   Not-in-family   White   \n",
       "15986             Divorced        Adm-clerical   Not-in-family   White   \n",
       "24455            Separated        Craft-repair   Not-in-family   Other   \n",
       "...                    ...                 ...             ...     ...   \n",
       "11141            Separated        Craft-repair       Unmarried   Black   \n",
       "18912   Married-civ-spouse                   ?            Wife   White   \n",
       "12246   Married-civ-spouse    Transport-moving         Husband   White   \n",
       "10277        Never-married        Adm-clerical       Own-child   White   \n",
       "2302              Divorced        Tech-support   Not-in-family   White   \n",
       "\n",
       "           Sex  Capital-gain  Capital-loss  Hours-per-week  Native-country  \\\n",
       "25418     Male             0             0              40   United-States   \n",
       "20055     Male         99999             0              40   United-States   \n",
       "10209   Female             0          1590              40   United-States   \n",
       "15986   Female          7443             0              40   United-States   \n",
       "24455   Female             0             0              40   United-States   \n",
       "...        ...           ...           ...             ...             ...   \n",
       "11141   Female             0             0              40   United-States   \n",
       "18912   Female             0             0              40          Mexico   \n",
       "12246     Male             0             0              40   United-States   \n",
       "10277     Male             0          1590              40   United-States   \n",
       "2302      Male             0             0              60   United-States   \n",
       "\n",
       "        Money  \n",
       "25418   <=50K  \n",
       "20055    >50K  \n",
       "10209   <=50K  \n",
       "15986   <=50K  \n",
       "24455   <=50K  \n",
       "...       ...  \n",
       "11141   <=50K  \n",
       "18912   <=50K  \n",
       "12246    >50K  \n",
       "10277   <=50K  \n",
       "2302    <=50K  \n",
       "\n",
       "[500 rows x 15 columns]"
      ]
     },
     "execution_count": 17,
     "metadata": {},
     "output_type": "execute_result"
    }
   ],
   "source": [
    "data_pd = pd.read_csv('adult.data.csv')\n",
    "data_pd = data_pd.sample(n = 500)\n",
    "data_pd"
   ]
  },
  {
   "cell_type": "markdown",
   "id": "1874fb4c",
   "metadata": {},
   "source": [
    "##### Предварительно обработаем таблицу: выкинем наны, вопросительные знаки и заменим неравенства, задающие классы на числа 0 и 1"
   ]
  },
  {
   "cell_type": "code",
   "execution_count": 18,
   "id": "51f36aa7",
   "metadata": {},
   "outputs": [
    {
     "name": "stdout",
     "output_type": "stream",
     "text": [
      "<class 'pandas.core.frame.DataFrame'>\n",
      "Int64Index: 500 entries, 25418 to 2302\n",
      "Data columns (total 15 columns):\n",
      " #   Column          Non-Null Count  Dtype \n",
      "---  ------          --------------  ----- \n",
      " 0   Age             500 non-null    int64 \n",
      " 1   workclass       500 non-null    object\n",
      " 2   Fnlwgt          500 non-null    int64 \n",
      " 3   Education       500 non-null    object\n",
      " 4   Education-num   500 non-null    int64 \n",
      " 5   Marital-status  500 non-null    object\n",
      " 6   Occupation      500 non-null    object\n",
      " 7   Relationship    500 non-null    object\n",
      " 8   Race            500 non-null    object\n",
      " 9   Sex             500 non-null    object\n",
      " 10  Capital-gain    500 non-null    int64 \n",
      " 11  Capital-loss    500 non-null    int64 \n",
      " 12  Hours-per-week  500 non-null    int64 \n",
      " 13  Native-country  500 non-null    object\n",
      " 14  Money           500 non-null    object\n",
      "dtypes: int64(6), object(9)\n",
      "memory usage: 62.5+ KB\n"
     ]
    }
   ],
   "source": [
    "data_pd = data_pd.dropna()\n",
    "data_pd.info()\n",
    "\n",
    "a = set()\n",
    "for index, row in data_pd.iterrows():\n",
    "    for item in row:\n",
    "        if item == \" ?\":\n",
    "            a.add(index)\n",
    "\n",
    "data_pd.drop(list(a), axis=0, inplace=True)\n",
    "\n",
    "data_pd['Money'] = (data_pd['Money'] == \" <=50K\").astype('int64')"
   ]
  },
  {
   "cell_type": "code",
   "execution_count": 19,
   "id": "36075d7f",
   "metadata": {},
   "outputs": [],
   "source": [
    "X = data_pd.drop(['Money'], axis=1)\n",
    "y = data_pd['Money']"
   ]
  },
  {
   "cell_type": "markdown",
   "id": "a660f5ef",
   "metadata": {},
   "source": [
    "##### Разобьем данные:"
   ]
  },
  {
   "cell_type": "code",
   "execution_count": 20,
   "id": "365d4f16",
   "metadata": {},
   "outputs": [],
   "source": [
    "X_train, X_test, y_train, y_test = train_test_split(X, y, test_size=0.33, random_state=42)"
   ]
  },
  {
   "cell_type": "markdown",
   "id": "f4a72be8",
   "metadata": {},
   "source": [
    "##### Обучим кастомное дерево решений: "
   ]
  },
  {
   "cell_type": "code",
   "execution_count": 21,
   "id": "b33ada33",
   "metadata": {},
   "outputs": [],
   "source": [
    "from decision_tree import DecisionTree\n",
    "\n",
    "my_ds = DecisionTree(max_depth=5, min_node_size=20)\n",
    "root_train_pd = my_ds.fit(X_train, y_train)"
   ]
  },
  {
   "cell_type": "markdown",
   "id": "bab2703e",
   "metadata": {},
   "source": [
    "##### И посмотрим на ошибку"
   ]
  },
  {
   "cell_type": "code",
   "execution_count": 22,
   "id": "8ea335e1",
   "metadata": {},
   "outputs": [
    {
     "name": "stdout",
     "output_type": "stream",
     "text": [
      "accuracy =  0.7581699346405228\n"
     ]
    }
   ],
   "source": [
    "predictions = my_ds.predict(X_test)\n",
    "\n",
    "accuracy = np.sum(predictions == y_test.to_numpy()) / len(predictions)\n",
    "\n",
    "print(\"accuracy = \", accuracy)"
   ]
  },
  {
   "cell_type": "markdown",
   "id": "3096f234",
   "metadata": {},
   "source": [
    "##### По желанию отрисуем дерево:"
   ]
  },
  {
   "cell_type": "code",
   "execution_count": 23,
   "id": "1fab98f6",
   "metadata": {},
   "outputs": [
    {
     "name": "stdout",
     "output_type": "stream",
     "text": [
      " Relationship  =   Husband ||  Wife\n",
      "— Occupation  =   Prof-specialty ||  Exec-managerial ||  Protective-serv ||  Tech-support ||  Craft-repair ||  Sales\n",
      "—— Education  =   Doctorate ||  Masters ||  Assoc-acdm ||  Prof-school ||  10th\n",
      "——— 0\n",
      "——— workclass  =   State-gov ||  Self-emp-inc ||  Private\n",
      "———— Age < 65\n",
      "————— 0\n",
      "————— 1\n",
      "———— 1\n",
      "—— Age < 36\n",
      "——— 1\n",
      "——— Education  =   Some-college ||  HS-grad ||  Bachelors\n",
      "———— workclass  =   Private\n",
      "————— 0\n",
      "————— 1\n",
      "———— 1\n",
      "— Occupation  =   Protective-serv\n",
      "—— 0\n",
      "—— Native-country  =   Philippines\n",
      "——— 0\n",
      "——— Capital-gain < 99999\n",
      "———— Education  =   Bachelors\n",
      "————— 1\n",
      "————— 1\n",
      "———— 0\n"
     ]
    }
   ],
   "source": [
    "my_ds.draw(my_ds.root, X.columns, 0)"
   ]
  },
  {
   "cell_type": "markdown",
   "id": "a6ac5392",
   "metadata": {},
   "source": [
    "##### Далее - обучим библиотечное дерево и посмотрим на ошибку"
   ]
  },
  {
   "cell_type": "code",
   "execution_count": 24,
   "id": "f53e77ef",
   "metadata": {},
   "outputs": [
    {
     "name": "stdout",
     "output_type": "stream",
     "text": [
      "<class 'pandas.core.frame.DataFrame'>\n",
      "Int64Index: 309 entries, 1424 to 25485\n",
      "Data columns (total 14 columns):\n",
      " #   Column          Non-Null Count  Dtype\n",
      "---  ------          --------------  -----\n",
      " 0   Age             309 non-null    int64\n",
      " 1   workclass       309 non-null    int64\n",
      " 2   Fnlwgt          309 non-null    int64\n",
      " 3   Education       309 non-null    int64\n",
      " 4   Education-num   309 non-null    int64\n",
      " 5   Marital-status  309 non-null    int64\n",
      " 6   Occupation      309 non-null    int64\n",
      " 7   Relationship    309 non-null    int64\n",
      " 8   Race            309 non-null    int64\n",
      " 9   Sex             309 non-null    int64\n",
      " 10  Capital-gain    309 non-null    int64\n",
      " 11  Capital-loss    309 non-null    int64\n",
      " 12  Hours-per-week  309 non-null    int64\n",
      " 13  Native-country  309 non-null    int64\n",
      "dtypes: int64(14)\n",
      "memory usage: 36.2 KB\n"
     ]
    }
   ],
   "source": [
    "from sklearn import preprocessing\n",
    "le = preprocessing.LabelEncoder()\n",
    "X_train = X_train.apply(le.fit_transform)\n",
    "X_test = X_test.apply(le.fit_transform)\n",
    "y_test = y_test.to_numpy()\n",
    "X_train.info()"
   ]
  },
  {
   "cell_type": "code",
   "execution_count": 26,
   "id": "2fbec51c",
   "metadata": {},
   "outputs": [
    {
     "data": {
      "text/plain": [
       "DecisionTreeClassifier(max_depth=5, random_state=42)"
      ]
     },
     "execution_count": 26,
     "metadata": {},
     "output_type": "execute_result"
    }
   ],
   "source": [
    "tree = DecisionTreeClassifier(max_depth=5, criterion='gini', random_state=42)\n",
    "tree.fit(X_train,\n",
    "         y_train)\n"
   ]
  },
  {
   "cell_type": "code",
   "execution_count": 27,
   "id": "7a4429ce",
   "metadata": {},
   "outputs": [],
   "source": [
    "predict = tree.predict(X_test)"
   ]
  },
  {
   "cell_type": "code",
   "execution_count": 28,
   "id": "f8bd5ae0",
   "metadata": {},
   "outputs": [
    {
     "name": "stdout",
     "output_type": "stream",
     "text": [
      "0.803921568627451\n"
     ]
    }
   ],
   "source": [
    "accuracy = sum(predict == y_test) / len(predict)\n",
    "\n",
    "print(accuracy)"
   ]
  },
  {
   "cell_type": "markdown",
   "id": "f76e46c4",
   "metadata": {},
   "source": [
    "##### Следующий и последний этап - построениие случайного леса и оценка OOB"
   ]
  },
  {
   "cell_type": "code",
   "execution_count": 29,
   "id": "e78315b9",
   "metadata": {},
   "outputs": [
    {
     "data": {
      "text/plain": [
       "RandomForestClassifier(max_depth=5, random_state=42)"
      ]
     },
     "execution_count": 29,
     "metadata": {},
     "output_type": "execute_result"
    }
   ],
   "source": [
    "from sklearn.ensemble import RandomForestClassifier\n",
    "rf = RandomForestClassifier(n_estimators=100, max_depth=5, criterion='gini', random_state=42)\n",
    "rf.fit(X_train, y_train)"
   ]
  },
  {
   "cell_type": "code",
   "execution_count": 30,
   "id": "0fc9b29a",
   "metadata": {},
   "outputs": [],
   "source": [
    "predict_rf = rf.predict(X_test)"
   ]
  },
  {
   "cell_type": "code",
   "execution_count": 31,
   "id": "6f74c116",
   "metadata": {},
   "outputs": [
    {
     "name": "stdout",
     "output_type": "stream",
     "text": [
      "0.8300653594771242\n"
     ]
    }
   ],
   "source": [
    "accuracy = sum(predict_rf == y_test) / len(predict)\n",
    "\n",
    "print(accuracy)"
   ]
  },
  {
   "cell_type": "code",
   "execution_count": 32,
   "id": "9415284f",
   "metadata": {},
   "outputs": [
    {
     "data": {
      "image/png": "[encoded data removed]",
      "text/plain": [
       "<Figure size 432x288 with 1 Axes>"
      ]
     },
     "metadata": {
      "needs_background": "light"
     },
     "output_type": "display_data"
    }
   ],
   "source": [
    "from collections import OrderedDict\n",
    "from sklearn.datasets import make_classification\n",
    "import warnings\n",
    "warnings.filterwarnings('ignore')\n",
    "\n",
    "ensemble_clfs = [\n",
    "    (\"RandomForestClassifier, max_features='log2'\",\n",
    "        RandomForestClassifier(warm_start=True, max_features='log2',\n",
    "                               oob_score=True, random_state=42)),\n",
    "    (\"RandomForestClassifier, max_features=None\",\n",
    "        RandomForestClassifier(warm_start=True, max_features=None,\n",
    "                               oob_score=True, random_state=42)) ]\n",
    "\n",
    "\n",
    "error_rate = OrderedDict((label, []) for label, _ in ensemble_clfs)\n",
    "\n",
    "min_estimators = 15\n",
    "max_estimators = 175\n",
    "\n",
    "for label, clf in ensemble_clfs:\n",
    "    for i in range(min_estimators, max_estimators + 1):\n",
    "        clf.set_params(n_estimators=i)\n",
    "        clf.fit(X_train, y_train)\n",
    "\n",
    "        oob_error = 1 - clf.oob_score_\n",
    "        error_rate[label].append((i, oob_error))\n",
    "\n",
    "for label, clf_err in error_rate.items():\n",
    "    xs, ys = zip(*clf_err)\n",
    "    plt.plot(xs, ys, label=label)\n",
    "\n",
    "plt.xlim(min_estimators, max_estimators)\n",
    "plt.xlabel(\"n_estimators\")\n",
    "plt.ylabel(\"OOB error rate\")\n",
    "plt.legend(loc=\"upper right\")\n",
    "plt.show()"
   ]
  },
  {
   "cell_type": "code",
   "execution_count": null,
   "id": "11c2db32",
   "metadata": {},
   "outputs": [],
   "source": []
  }
 ],
 "metadata": {
  "kernelspec": {
   "display_name": "Python 3 (ipykernel)",
   "language": "python",
   "name": "python3"
  },
  "language_info": {
   "codemirror_mode": {
    "name": "ipython",
    "version": 3
   },
   "file_extension": ".py",
   "mimetype": "text/x-python",
   "name": "python",
   "nbconvert_exporter": "python",
   "pygments_lexer": "ipython3",
   "version": "3.8.10"
  }
 },
 "nbformat": 4,
 "nbformat_minor": 5
}
